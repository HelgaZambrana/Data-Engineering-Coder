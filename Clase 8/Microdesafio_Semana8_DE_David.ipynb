{
 "cells": [
  {
   "cell_type": "code",
   "execution_count": 1,
   "id": "333fc5d2",
   "metadata": {
    "scrolled": true
   },
   "outputs": [
    {
     "name": "stdout",
     "output_type": "stream",
     "text": [
      "Collecting anonymizedf\n",
      "  Using cached anonymizedf-1.0.1-py3-none-any.whl (7.0 kB)\n",
      "Collecting faker\n",
      "  Downloading Faker-18.4.0-py3-none-any.whl (1.7 MB)\n",
      "     ---------------------------------------- 1.7/1.7 MB 9.0 MB/s eta 0:00:00\n",
      "Requirement already satisfied: pandas in c:\\users\\windows\\appdata\\local\\packages\\pythonsoftwarefoundation.python.3.10_qbz5n2kfra8p0\\localcache\\local-packages\\python310\\site-packages (from anonymizedf) (1.5.1)\n",
      "Requirement already satisfied: python-dateutil>=2.4 in c:\\users\\windows\\appdata\\local\\packages\\pythonsoftwarefoundation.python.3.10_qbz5n2kfra8p0\\localcache\\local-packages\\python310\\site-packages (from faker->anonymizedf) (2.8.2)\n",
      "Requirement already satisfied: pytz>=2020.1 in c:\\users\\windows\\appdata\\local\\packages\\pythonsoftwarefoundation.python.3.10_qbz5n2kfra8p0\\localcache\\local-packages\\python310\\site-packages (from pandas->anonymizedf) (2022.5)\n",
      "Requirement already satisfied: numpy>=1.21.0 in c:\\users\\windows\\appdata\\local\\packages\\pythonsoftwarefoundation.python.3.10_qbz5n2kfra8p0\\localcache\\local-packages\\python310\\site-packages (from pandas->anonymizedf) (1.23.4)\n",
      "Requirement already satisfied: six>=1.5 in c:\\users\\windows\\appdata\\local\\packages\\pythonsoftwarefoundation.python.3.10_qbz5n2kfra8p0\\localcache\\local-packages\\python310\\site-packages (from python-dateutil>=2.4->faker->anonymizedf) (1.16.0)\n",
      "Installing collected packages: faker, anonymizedf\n",
      "Successfully installed anonymizedf-1.0.1 faker-18.4.0\n"
     ]
    },
    {
     "name": "stderr",
     "output_type": "stream",
     "text": [
      "\n",
      "[notice] A new release of pip is available: 23.0.1 -> 23.1\n",
      "[notice] To update, run: C:\\Users\\Windows\\AppData\\Local\\Microsoft\\WindowsApps\\PythonSoftwareFoundation.Python.3.10_qbz5n2kfra8p0\\python.exe -m pip install --upgrade pip\n"
     ]
    }
   ],
   "source": [
    "#!pip install anonymizedf"
   ]
  },
  {
   "cell_type": "code",
   "execution_count": 1,
   "id": "f9863dd2",
   "metadata": {},
   "outputs": [],
   "source": [
    "import warnings; warnings.filterwarnings('ignore')\n",
    "import pandas as pd\n",
    "from anonymizedf.anonymizedf import anonymize"
   ]
  },
  {
   "attachments": {},
   "cell_type": "markdown",
   "id": "fa03cdc9",
   "metadata": {},
   "source": [
    "# Paso 1: Lectura de datos"
   ]
  },
  {
   "cell_type": "code",
   "execution_count": 2,
   "id": "530bbcbe",
   "metadata": {
    "scrolled": true
   },
   "outputs": [
    {
     "data": {
      "text/html": [
       "<div>\n",
       "<style scoped>\n",
       "    .dataframe tbody tr th:only-of-type {\n",
       "        vertical-align: middle;\n",
       "    }\n",
       "\n",
       "    .dataframe tbody tr th {\n",
       "        vertical-align: top;\n",
       "    }\n",
       "\n",
       "    .dataframe thead th {\n",
       "        text-align: right;\n",
       "    }\n",
       "</style>\n",
       "<table border=\"1\" class=\"dataframe\">\n",
       "  <thead>\n",
       "    <tr style=\"text-align: right;\">\n",
       "      <th></th>\n",
       "      <th>Pais</th>\n",
       "      <th>Comisionado</th>\n",
       "      <th>Reduccion_CO2</th>\n",
       "      <th>Incrmento_P</th>\n",
       "      <th>Inversion_arboles</th>\n",
       "      <th>Fecha</th>\n",
       "      <th>Telefono</th>\n",
       "    </tr>\n",
       "  </thead>\n",
       "  <tbody>\n",
       "    <tr>\n",
       "      <th>0</th>\n",
       "      <td>Argentina</td>\n",
       "      <td>Carlos Veroes</td>\n",
       "      <td>Si</td>\n",
       "      <td>Si</td>\n",
       "      <td>Si</td>\n",
       "      <td>08/07/2022</td>\n",
       "      <td>23467698</td>\n",
       "    </tr>\n",
       "    <tr>\n",
       "      <th>1</th>\n",
       "      <td>Colombia</td>\n",
       "      <td>Sofia Andrade</td>\n",
       "      <td>No</td>\n",
       "      <td>No</td>\n",
       "      <td>Si</td>\n",
       "      <td>12/06/2022</td>\n",
       "      <td>76587899</td>\n",
       "    </tr>\n",
       "    <tr>\n",
       "      <th>2</th>\n",
       "      <td>Chile</td>\n",
       "      <td>Cristina Valdivia</td>\n",
       "      <td>Si</td>\n",
       "      <td>Si</td>\n",
       "      <td>Si</td>\n",
       "      <td>15/07/2022</td>\n",
       "      <td>76593749</td>\n",
       "    </tr>\n",
       "    <tr>\n",
       "      <th>3</th>\n",
       "      <td>Bolivia</td>\n",
       "      <td>Pedro Carlos</td>\n",
       "      <td>No</td>\n",
       "      <td>No</td>\n",
       "      <td>No</td>\n",
       "      <td>01/09/2022</td>\n",
       "      <td>65746474</td>\n",
       "    </tr>\n",
       "    <tr>\n",
       "      <th>4</th>\n",
       "      <td>Paraguay</td>\n",
       "      <td>Juan Paraguas</td>\n",
       "      <td>No</td>\n",
       "      <td>Si</td>\n",
       "      <td>Si</td>\n",
       "      <td>04/06/2022</td>\n",
       "      <td>83447474</td>\n",
       "    </tr>\n",
       "    <tr>\n",
       "      <th>5</th>\n",
       "      <td>Venezuela</td>\n",
       "      <td>Andres Calamaro</td>\n",
       "      <td>Si</td>\n",
       "      <td>Si</td>\n",
       "      <td>No</td>\n",
       "      <td>03/05/2022</td>\n",
       "      <td>76847383</td>\n",
       "    </tr>\n",
       "    <tr>\n",
       "      <th>6</th>\n",
       "      <td>Uruguay</td>\n",
       "      <td>Fernando Tatial</td>\n",
       "      <td>No</td>\n",
       "      <td>No</td>\n",
       "      <td>Si</td>\n",
       "      <td>04/04/2022</td>\n",
       "      <td>13434453</td>\n",
       "    </tr>\n",
       "    <tr>\n",
       "      <th>7</th>\n",
       "      <td>Brasil</td>\n",
       "      <td>Gabriel Toeras</td>\n",
       "      <td>Si</td>\n",
       "      <td>Si</td>\n",
       "      <td>No</td>\n",
       "      <td>12/06/2022</td>\n",
       "      <td>37374344</td>\n",
       "    </tr>\n",
       "    <tr>\n",
       "      <th>8</th>\n",
       "      <td>Ecuador</td>\n",
       "      <td>Juan Vera</td>\n",
       "      <td>No</td>\n",
       "      <td>No</td>\n",
       "      <td>No</td>\n",
       "      <td>14/05/2022</td>\n",
       "      <td>47477654</td>\n",
       "    </tr>\n",
       "    <tr>\n",
       "      <th>9</th>\n",
       "      <td>Peru</td>\n",
       "      <td>Andres Porto</td>\n",
       "      <td>No</td>\n",
       "      <td>No</td>\n",
       "      <td>No</td>\n",
       "      <td>13/05/2022</td>\n",
       "      <td>57737373</td>\n",
       "    </tr>\n",
       "    <tr>\n",
       "      <th>10</th>\n",
       "      <td>EEUU</td>\n",
       "      <td>Jennifer Laurence</td>\n",
       "      <td>Si</td>\n",
       "      <td>Si</td>\n",
       "      <td>Si</td>\n",
       "      <td>01/04/2022</td>\n",
       "      <td>84574737</td>\n",
       "    </tr>\n",
       "    <tr>\n",
       "      <th>11</th>\n",
       "      <td>Canada</td>\n",
       "      <td>John white</td>\n",
       "      <td>No</td>\n",
       "      <td>Si</td>\n",
       "      <td>Si</td>\n",
       "      <td>04/01/2022</td>\n",
       "      <td>83873734</td>\n",
       "    </tr>\n",
       "  </tbody>\n",
       "</table>\n",
       "</div>"
      ],
      "text/plain": [
       "        Pais         Comisionado Reduccion_CO2 Incrmento_P Inversion_arboles  \\\n",
       "0   Argentina      Carlos Veroes            Si          Si                Si   \n",
       "1    Colombia      Sofia Andrade            No          No                Si   \n",
       "2       Chile  Cristina Valdivia            Si          Si                Si   \n",
       "3     Bolivia       Pedro Carlos            No          No                No   \n",
       "4    Paraguay      Juan Paraguas            No          Si                Si   \n",
       "5   Venezuela    Andres Calamaro            Si          Si                No   \n",
       "6     Uruguay    Fernando Tatial            No          No                Si   \n",
       "7      Brasil     Gabriel Toeras            Si          Si                No   \n",
       "8     Ecuador          Juan Vera            No          No                No   \n",
       "9        Peru       Andres Porto            No          No                No   \n",
       "10       EEUU  Jennifer Laurence            Si          Si                Si   \n",
       "11     Canada         John white            No          Si                Si   \n",
       "\n",
       "         Fecha  Telefono  \n",
       "0   08/07/2022  23467698  \n",
       "1   12/06/2022  76587899  \n",
       "2   15/07/2022  76593749  \n",
       "3   01/09/2022  65746474  \n",
       "4   04/06/2022  83447474  \n",
       "5   03/05/2022  76847383  \n",
       "6   04/04/2022  13434453  \n",
       "7   12/06/2022  37374344  \n",
       "8   14/05/2022  47477654  \n",
       "9   13/05/2022  57737373  \n",
       "10  01/04/2022  84574737  \n",
       "11  04/01/2022  83873734  "
      ]
     },
     "execution_count": 2,
     "metadata": {},
     "output_type": "execute_result"
    }
   ],
   "source": [
    "df= pd.read_csv('Datos_Microdesafio_Semana8_DE.txt',sep=';')\n",
    "df.head(12)"
   ]
  },
  {
   "attachments": {},
   "cell_type": "markdown",
   "id": "32089783",
   "metadata": {},
   "source": [
    "# Paso 2: Anonimizacion de columnas"
   ]
  },
  {
   "cell_type": "code",
   "execution_count": 3,
   "id": "d947d1ef",
   "metadata": {},
   "outputs": [],
   "source": [
    "# Preparar el dataframe\n",
    "an = anonymize(df)"
   ]
  },
  {
   "cell_type": "code",
   "execution_count": 4,
   "id": "e267c52f",
   "metadata": {},
   "outputs": [
    {
     "data": {
      "text/plain": [
       "anonymizedf.anonymizedf.anonymize"
      ]
     },
     "execution_count": 4,
     "metadata": {},
     "output_type": "execute_result"
    }
   ],
   "source": [
    "type(an)"
   ]
  },
  {
   "cell_type": "code",
   "execution_count": 5,
   "id": "1140adf7",
   "metadata": {},
   "outputs": [
    {
     "name": "stdout",
     "output_type": "stream",
     "text": [
      "\u001b[1;31mInit signature:\u001b[0m \u001b[0manonymize\u001b[0m\u001b[1;33m(\u001b[0m\u001b[0mdf\u001b[0m\u001b[1;33m)\u001b[0m\u001b[1;33m\u001b[0m\u001b[1;33m\u001b[0m\u001b[0m\n",
      "\u001b[1;31mDocstring:\u001b[0m     \n",
      "Initializes a Pandas DataFrame as an anonymize object\n",
      "to be used for making fake data.\n",
      "\n",
      "Args:\n",
      "    df: takes a Pandas DataFrame\n",
      "\n",
      "Returns:\n",
      "    anonymize object\n",
      "\u001b[1;31mFile:\u001b[0m           c:\\users\\david\\appdata\\local\\programs\\python\\python39\\lib\\site-packages\\anonymizedf\\anonymizedf.py\n",
      "\u001b[1;31mType:\u001b[0m           type\n",
      "\u001b[1;31mSubclasses:\u001b[0m     "
     ]
    }
   ],
   "source": [
    "anonymize?"
   ]
  },
  {
   "attachments": {},
   "cell_type": "markdown",
   "id": "0378acb0",
   "metadata": {},
   "source": [
    "`anonymize:` Este método se utiliza para anonimizar un dataframe. El método reemplaza todos los valores de una columna dada por valores aleatorios generados por el algoritmo de hash SHA-256. Esto se hace para preservar la distribución de los datos originales. El método devuelve un nuevo dataframe con los valores originales reemplazados por valores anonimizados."
   ]
  },
  {
   "cell_type": "code",
   "execution_count": 6,
   "id": "a0754bc0",
   "metadata": {},
   "outputs": [
    {
     "name": "stderr",
     "output_type": "stream",
     "text": [
      "WARNING: You are using pip version 20.2.3; however, version 23.3.1 is available.\n",
      "You should consider upgrading via the 'c:\\users\\david\\appdata\\local\\programs\\python\\python39\\python.exe -m pip install --upgrade pip' command.\n"
     ]
    }
   ],
   "source": [
    "!pip install -q Faker"
   ]
  },
  {
   "cell_type": "code",
   "execution_count": 6,
   "id": "e9f4b193",
   "metadata": {},
   "outputs": [],
   "source": [
    "from faker import Faker\n",
    "fake = Faker()"
   ]
  },
  {
   "cell_type": "code",
   "execution_count": 12,
   "id": "6b63a85e",
   "metadata": {},
   "outputs": [
    {
     "data": {
      "text/plain": [
       "'GH'"
      ]
     },
     "execution_count": 12,
     "metadata": {},
     "output_type": "execute_result"
    }
   ],
   "source": [
    "fake.country_code()"
   ]
  },
  {
   "cell_type": "code",
   "execution_count": 15,
   "id": "9e51311f",
   "metadata": {},
   "outputs": [
    {
     "data": {
      "text/plain": [
       "'Lake Allisonborough'"
      ]
     },
     "execution_count": 15,
     "metadata": {},
     "output_type": "execute_result"
    }
   ],
   "source": [
    "fake.city()"
   ]
  },
  {
   "cell_type": "code",
   "execution_count": 19,
   "id": "87d8eaa3",
   "metadata": {},
   "outputs": [
    {
     "data": {
      "text/plain": [
       "Decimal('170.419383')"
      ]
     },
     "execution_count": 19,
     "metadata": {},
     "output_type": "execute_result"
    }
   ],
   "source": [
    "fake.coordinate()"
   ]
  },
  {
   "cell_type": "code",
   "execution_count": 22,
   "id": "b2729be3",
   "metadata": {},
   "outputs": [
    {
     "data": {
      "text/plain": [
       "'hessmaria@salas.com'"
      ]
     },
     "execution_count": 22,
     "metadata": {},
     "output_type": "execute_result"
    }
   ],
   "source": [
    "fake.company_email()"
   ]
  },
  {
   "cell_type": "code",
   "execution_count": 23,
   "id": "9b3b06bc",
   "metadata": {},
   "outputs": [
    {
     "data": {
      "text/plain": [
       "'[{\"name\": \"Gloria Smith DVM\", \"residency\": \"967 Justin Curve\\\\nKerryberg, LA 56289\"}, {\"name\": \"Preston Williams\", \"residency\": \"163 Fernandez Via\\\\nNew Angelafurt, IN 92486\"}, {\"name\": \"Stephen Hall\", \"residency\": \"522 John Key\\\\nEast Loriberg, KY 38640\"}, {\"name\": \"Richard Juarez\", \"residency\": \"26671 Daniel Ford Apt. 377\\\\nTuckershire, NJ 90986\"}, {\"name\": \"Phillip Rowe\", \"residency\": \"4479 Cody Orchard Suite 258\\\\nMatthewmouth, MT 55802\"}, {\"name\": \"Shawn Warren\", \"residency\": \"6174 Stephen Plains\\\\nPort Michaelview, VT 43373\"}, {\"name\": \"Audrey Parks\", \"residency\": \"087 Stephen Parkway\\\\nHoffmanberg, NE 32134\"}, {\"name\": \"Thomas Higgins\", \"residency\": \"6198 Tammy Corner Apt. 194\\\\nSouth Brittany, CA 20354\"}, {\"name\": \"Dawn Cannon\", \"residency\": \"1982 Denise Flats Suite 555\\\\nCobbland, WV 95771\"}, {\"name\": \"Oscar Cline\", \"residency\": \"PSC 4653, Box 1642\\\\nAPO AP 81792\"}]'"
      ]
     },
     "execution_count": 23,
     "metadata": {},
     "output_type": "execute_result"
    }
   ],
   "source": [
    "fake.json()"
   ]
  },
  {
   "cell_type": "code",
   "execution_count": 24,
   "id": "c13a9e64",
   "metadata": {},
   "outputs": [
    {
     "name": "stdout",
     "output_type": "stream",
     "text": [
      "Anthony Wallace\n",
      "Jacqueline Thomas\n",
      "Jennifer Dougherty MD\n",
      "Laura Gardner\n",
      "Thomas Evans\n",
      "Kimberly Lopez\n",
      "Alyssa Schneider\n",
      "Lisa Schneider\n",
      "Krystal Hoover\n",
      "Ashley Brown\n"
     ]
    }
   ],
   "source": [
    "for _ in range(10):\n",
    "  print(fake.name())"
   ]
  },
  {
   "cell_type": "code",
   "execution_count": 25,
   "id": "32ab2197",
   "metadata": {
    "scrolled": true
   },
   "outputs": [
    {
     "data": {
      "text/html": [
       "<div>\n",
       "<style scoped>\n",
       "    .dataframe tbody tr th:only-of-type {\n",
       "        vertical-align: middle;\n",
       "    }\n",
       "\n",
       "    .dataframe tbody tr th {\n",
       "        vertical-align: top;\n",
       "    }\n",
       "\n",
       "    .dataframe thead th {\n",
       "        text-align: right;\n",
       "    }\n",
       "</style>\n",
       "<table border=\"1\" class=\"dataframe\">\n",
       "  <thead>\n",
       "    <tr style=\"text-align: right;\">\n",
       "      <th></th>\n",
       "      <th>Pais</th>\n",
       "      <th>Comisionado</th>\n",
       "      <th>Reduccion_CO2</th>\n",
       "      <th>Incrmento_P</th>\n",
       "      <th>Inversion_arboles</th>\n",
       "      <th>Fecha</th>\n",
       "      <th>Telefono</th>\n",
       "      <th>Fake_Comisionado</th>\n",
       "      <th>Fake_Fecha</th>\n",
       "      <th>Fake_Telefono</th>\n",
       "    </tr>\n",
       "  </thead>\n",
       "  <tbody>\n",
       "    <tr>\n",
       "      <th>0</th>\n",
       "      <td>Argentina</td>\n",
       "      <td>Carlos Veroes</td>\n",
       "      <td>Si</td>\n",
       "      <td>Si</td>\n",
       "      <td>Si</td>\n",
       "      <td>08/07/2022</td>\n",
       "      <td>23467698</td>\n",
       "      <td>Dr Debra Bull</td>\n",
       "      <td>1990-07-08</td>\n",
       "      <td>73710929</td>\n",
       "    </tr>\n",
       "    <tr>\n",
       "      <th>1</th>\n",
       "      <td>Colombia</td>\n",
       "      <td>Sofia Andrade</td>\n",
       "      <td>No</td>\n",
       "      <td>No</td>\n",
       "      <td>Si</td>\n",
       "      <td>12/06/2022</td>\n",
       "      <td>76587899</td>\n",
       "      <td>Dr Philip Banks</td>\n",
       "      <td>1980-07-29</td>\n",
       "      <td>56056869</td>\n",
       "    </tr>\n",
       "    <tr>\n",
       "      <th>2</th>\n",
       "      <td>Chile</td>\n",
       "      <td>Cristina Valdivia</td>\n",
       "      <td>Si</td>\n",
       "      <td>Si</td>\n",
       "      <td>Si</td>\n",
       "      <td>15/07/2022</td>\n",
       "      <td>76593749</td>\n",
       "      <td>Craig Roberts</td>\n",
       "      <td>1997-03-22</td>\n",
       "      <td>16325188</td>\n",
       "    </tr>\n",
       "    <tr>\n",
       "      <th>3</th>\n",
       "      <td>Bolivia</td>\n",
       "      <td>Pedro Carlos</td>\n",
       "      <td>No</td>\n",
       "      <td>No</td>\n",
       "      <td>No</td>\n",
       "      <td>01/09/2022</td>\n",
       "      <td>65746474</td>\n",
       "      <td>Elliott Hudson-Williams</td>\n",
       "      <td>1986-06-18</td>\n",
       "      <td>34148789</td>\n",
       "    </tr>\n",
       "    <tr>\n",
       "      <th>4</th>\n",
       "      <td>Paraguay</td>\n",
       "      <td>Juan Paraguas</td>\n",
       "      <td>No</td>\n",
       "      <td>Si</td>\n",
       "      <td>Si</td>\n",
       "      <td>04/06/2022</td>\n",
       "      <td>83447474</td>\n",
       "      <td>Lesley Rowe</td>\n",
       "      <td>2015-12-18</td>\n",
       "      <td>54462553</td>\n",
       "    </tr>\n",
       "    <tr>\n",
       "      <th>5</th>\n",
       "      <td>Venezuela</td>\n",
       "      <td>Andres Calamaro</td>\n",
       "      <td>Si</td>\n",
       "      <td>Si</td>\n",
       "      <td>No</td>\n",
       "      <td>03/05/2022</td>\n",
       "      <td>76847383</td>\n",
       "      <td>Jenna Parkes-Greenwood</td>\n",
       "      <td>1986-09-09</td>\n",
       "      <td>65417059</td>\n",
       "    </tr>\n",
       "    <tr>\n",
       "      <th>6</th>\n",
       "      <td>Uruguay</td>\n",
       "      <td>Fernando Tatial</td>\n",
       "      <td>No</td>\n",
       "      <td>No</td>\n",
       "      <td>Si</td>\n",
       "      <td>04/04/2022</td>\n",
       "      <td>13434453</td>\n",
       "      <td>Rebecca Manning</td>\n",
       "      <td>2013-12-21</td>\n",
       "      <td>56957199</td>\n",
       "    </tr>\n",
       "    <tr>\n",
       "      <th>7</th>\n",
       "      <td>Brasil</td>\n",
       "      <td>Gabriel Toeras</td>\n",
       "      <td>Si</td>\n",
       "      <td>Si</td>\n",
       "      <td>No</td>\n",
       "      <td>12/06/2022</td>\n",
       "      <td>37374344</td>\n",
       "      <td>Tracey Hardy</td>\n",
       "      <td>1980-07-29</td>\n",
       "      <td>37873105</td>\n",
       "    </tr>\n",
       "    <tr>\n",
       "      <th>8</th>\n",
       "      <td>Ecuador</td>\n",
       "      <td>Juan Vera</td>\n",
       "      <td>No</td>\n",
       "      <td>No</td>\n",
       "      <td>No</td>\n",
       "      <td>14/05/2022</td>\n",
       "      <td>47477654</td>\n",
       "      <td>Bradley Reynolds-Turner</td>\n",
       "      <td>1986-04-21</td>\n",
       "      <td>78674023</td>\n",
       "    </tr>\n",
       "    <tr>\n",
       "      <th>9</th>\n",
       "      <td>Peru</td>\n",
       "      <td>Andres Porto</td>\n",
       "      <td>No</td>\n",
       "      <td>No</td>\n",
       "      <td>No</td>\n",
       "      <td>13/05/2022</td>\n",
       "      <td>57737373</td>\n",
       "      <td>Grace Hurst</td>\n",
       "      <td>2000-11-12</td>\n",
       "      <td>18153868</td>\n",
       "    </tr>\n",
       "    <tr>\n",
       "      <th>10</th>\n",
       "      <td>EEUU</td>\n",
       "      <td>Jennifer Laurence</td>\n",
       "      <td>Si</td>\n",
       "      <td>Si</td>\n",
       "      <td>Si</td>\n",
       "      <td>01/04/2022</td>\n",
       "      <td>84574737</td>\n",
       "      <td>Danny Bell</td>\n",
       "      <td>1986-09-10</td>\n",
       "      <td>69775256</td>\n",
       "    </tr>\n",
       "    <tr>\n",
       "      <th>11</th>\n",
       "      <td>Canada</td>\n",
       "      <td>John white</td>\n",
       "      <td>No</td>\n",
       "      <td>Si</td>\n",
       "      <td>Si</td>\n",
       "      <td>04/01/2022</td>\n",
       "      <td>83873734</td>\n",
       "      <td>Harry Todd</td>\n",
       "      <td>2014-10-27</td>\n",
       "      <td>69048700</td>\n",
       "    </tr>\n",
       "    <tr>\n",
       "      <th>12</th>\n",
       "      <td>Mexico</td>\n",
       "      <td>Andres Fernandez</td>\n",
       "      <td>Si</td>\n",
       "      <td>Si</td>\n",
       "      <td>No</td>\n",
       "      <td>08/05/2022</td>\n",
       "      <td>64634746</td>\n",
       "      <td>Victor Reynolds-Patel</td>\n",
       "      <td>1988-03-25</td>\n",
       "      <td>70602450</td>\n",
       "    </tr>\n",
       "    <tr>\n",
       "      <th>13</th>\n",
       "      <td>Costa Rica</td>\n",
       "      <td>Pedro Urrutia</td>\n",
       "      <td>No</td>\n",
       "      <td>No</td>\n",
       "      <td>Si</td>\n",
       "      <td>09/06/2022</td>\n",
       "      <td>14544643</td>\n",
       "      <td>Gary Thomson</td>\n",
       "      <td>1974-06-18</td>\n",
       "      <td>45997287</td>\n",
       "    </tr>\n",
       "    <tr>\n",
       "      <th>14</th>\n",
       "      <td>Jamaica</td>\n",
       "      <td>Michael Sophit</td>\n",
       "      <td>No</td>\n",
       "      <td>No</td>\n",
       "      <td>No</td>\n",
       "      <td>26/07/2022</td>\n",
       "      <td>75638664</td>\n",
       "      <td>Mr Conor Birch</td>\n",
       "      <td>1990-09-22</td>\n",
       "      <td>42022458</td>\n",
       "    </tr>\n",
       "  </tbody>\n",
       "</table>\n",
       "</div>"
      ],
      "text/plain": [
       "         Pais         Comisionado Reduccion_CO2 Incrmento_P Inversion_arboles  \\\n",
       "0    Argentina      Carlos Veroes            Si          Si                Si   \n",
       "1     Colombia      Sofia Andrade            No          No                Si   \n",
       "2        Chile  Cristina Valdivia            Si          Si                Si   \n",
       "3      Bolivia       Pedro Carlos            No          No                No   \n",
       "4     Paraguay      Juan Paraguas            No          Si                Si   \n",
       "5    Venezuela    Andres Calamaro            Si          Si                No   \n",
       "6      Uruguay    Fernando Tatial            No          No                Si   \n",
       "7       Brasil     Gabriel Toeras            Si          Si                No   \n",
       "8      Ecuador          Juan Vera            No          No                No   \n",
       "9         Peru       Andres Porto            No          No                No   \n",
       "10        EEUU  Jennifer Laurence            Si          Si                Si   \n",
       "11      Canada         John white            No          Si                Si   \n",
       "12     Mexico    Andres Fernandez            Si          Si                No   \n",
       "13  Costa Rica      Pedro Urrutia            No          No                Si   \n",
       "14    Jamaica      Michael Sophit            No          No                No   \n",
       "\n",
       "         Fecha  Telefono         Fake_Comisionado  Fake_Fecha  Fake_Telefono  \n",
       "0   08/07/2022  23467698            Dr Debra Bull  1990-07-08       73710929  \n",
       "1   12/06/2022  76587899          Dr Philip Banks  1980-07-29       56056869  \n",
       "2   15/07/2022  76593749            Craig Roberts  1997-03-22       16325188  \n",
       "3   01/09/2022  65746474  Elliott Hudson-Williams  1986-06-18       34148789  \n",
       "4   04/06/2022  83447474              Lesley Rowe  2015-12-18       54462553  \n",
       "5   03/05/2022  76847383   Jenna Parkes-Greenwood  1986-09-09       65417059  \n",
       "6   04/04/2022  13434453          Rebecca Manning  2013-12-21       56957199  \n",
       "7   12/06/2022  37374344             Tracey Hardy  1980-07-29       37873105  \n",
       "8   14/05/2022  47477654  Bradley Reynolds-Turner  1986-04-21       78674023  \n",
       "9   13/05/2022  57737373              Grace Hurst  2000-11-12       18153868  \n",
       "10  01/04/2022  84574737               Danny Bell  1986-09-10       69775256  \n",
       "11  04/01/2022  83873734               Harry Todd  2014-10-27       69048700  \n",
       "12  08/05/2022  64634746    Victor Reynolds-Patel  1988-03-25       70602450  \n",
       "13  09/06/2022  14544643             Gary Thomson  1974-06-18       45997287  \n",
       "14  26/07/2022  75638664           Mr Conor Birch  1990-09-22       42022458  "
      ]
     },
     "execution_count": 25,
     "metadata": {},
     "output_type": "execute_result"
    }
   ],
   "source": [
    "fake_df = (\n",
    "    an\n",
    "    .fake_names(\"Comisionado\", chaining=True)\n",
    "    .fake_dates(\"Fecha\", chaining=True)\n",
    "    .fake_whole_numbers(\"Telefono\", chaining=True)\n",
    "    .show_data_frame()\n",
    ")\n",
    "fake_df"
   ]
  },
  {
   "cell_type": "code",
   "execution_count": 26,
   "id": "a525c9b7",
   "metadata": {},
   "outputs": [
    {
     "data": {
      "text/plain": [
       "pandas.core.frame.DataFrame"
      ]
     },
     "execution_count": 26,
     "metadata": {},
     "output_type": "execute_result"
    }
   ],
   "source": [
    "type(fake_df)"
   ]
  },
  {
   "cell_type": "code",
   "execution_count": 27,
   "id": "281008ba",
   "metadata": {},
   "outputs": [
    {
     "data": {
      "text/plain": [
       "Index(['Pais ', 'Comisionado', 'Reduccion_CO2', 'Incrmento_P',\n",
       "       'Inversion_arboles', 'Fecha', 'Telefono', 'Fake_Comisionado',\n",
       "       'Fake_Fecha', 'Fake_Telefono'],\n",
       "      dtype='object')"
      ]
     },
     "execution_count": 27,
     "metadata": {},
     "output_type": "execute_result"
    }
   ],
   "source": [
    "fake_df.columns"
   ]
  },
  {
   "attachments": {},
   "cell_type": "markdown",
   "id": "92887f97",
   "metadata": {},
   "source": [
    "# Paso 3: Eleccion de columnas para alimentar database"
   ]
  },
  {
   "cell_type": "code",
   "execution_count": 28,
   "id": "4d0a7520",
   "metadata": {
    "scrolled": true
   },
   "outputs": [
    {
     "data": {
      "text/html": [
       "<div>\n",
       "<style scoped>\n",
       "    .dataframe tbody tr th:only-of-type {\n",
       "        vertical-align: middle;\n",
       "    }\n",
       "\n",
       "    .dataframe tbody tr th {\n",
       "        vertical-align: top;\n",
       "    }\n",
       "\n",
       "    .dataframe thead th {\n",
       "        text-align: right;\n",
       "    }\n",
       "</style>\n",
       "<table border=\"1\" class=\"dataframe\">\n",
       "  <thead>\n",
       "    <tr style=\"text-align: right;\">\n",
       "      <th></th>\n",
       "      <th>Pais</th>\n",
       "      <th>Comisionado</th>\n",
       "      <th>Reduccion_CO2</th>\n",
       "      <th>Incrmento_P</th>\n",
       "      <th>Inversion_arboles</th>\n",
       "      <th>Fecha</th>\n",
       "      <th>Telefono</th>\n",
       "    </tr>\n",
       "  </thead>\n",
       "  <tbody>\n",
       "    <tr>\n",
       "      <th>0</th>\n",
       "      <td>Argentina</td>\n",
       "      <td>Dr Debra Bull</td>\n",
       "      <td>Si</td>\n",
       "      <td>Si</td>\n",
       "      <td>Si</td>\n",
       "      <td>1990-07-08</td>\n",
       "      <td>73710929</td>\n",
       "    </tr>\n",
       "    <tr>\n",
       "      <th>1</th>\n",
       "      <td>Colombia</td>\n",
       "      <td>Dr Philip Banks</td>\n",
       "      <td>No</td>\n",
       "      <td>No</td>\n",
       "      <td>Si</td>\n",
       "      <td>1980-07-29</td>\n",
       "      <td>56056869</td>\n",
       "    </tr>\n",
       "    <tr>\n",
       "      <th>2</th>\n",
       "      <td>Chile</td>\n",
       "      <td>Craig Roberts</td>\n",
       "      <td>Si</td>\n",
       "      <td>Si</td>\n",
       "      <td>Si</td>\n",
       "      <td>1997-03-22</td>\n",
       "      <td>16325188</td>\n",
       "    </tr>\n",
       "    <tr>\n",
       "      <th>3</th>\n",
       "      <td>Bolivia</td>\n",
       "      <td>Elliott Hudson-Williams</td>\n",
       "      <td>No</td>\n",
       "      <td>No</td>\n",
       "      <td>No</td>\n",
       "      <td>1986-06-18</td>\n",
       "      <td>34148789</td>\n",
       "    </tr>\n",
       "    <tr>\n",
       "      <th>4</th>\n",
       "      <td>Paraguay</td>\n",
       "      <td>Lesley Rowe</td>\n",
       "      <td>No</td>\n",
       "      <td>Si</td>\n",
       "      <td>Si</td>\n",
       "      <td>2015-12-18</td>\n",
       "      <td>54462553</td>\n",
       "    </tr>\n",
       "    <tr>\n",
       "      <th>5</th>\n",
       "      <td>Venezuela</td>\n",
       "      <td>Jenna Parkes-Greenwood</td>\n",
       "      <td>Si</td>\n",
       "      <td>Si</td>\n",
       "      <td>No</td>\n",
       "      <td>1986-09-09</td>\n",
       "      <td>65417059</td>\n",
       "    </tr>\n",
       "    <tr>\n",
       "      <th>6</th>\n",
       "      <td>Uruguay</td>\n",
       "      <td>Rebecca Manning</td>\n",
       "      <td>No</td>\n",
       "      <td>No</td>\n",
       "      <td>Si</td>\n",
       "      <td>2013-12-21</td>\n",
       "      <td>56957199</td>\n",
       "    </tr>\n",
       "    <tr>\n",
       "      <th>7</th>\n",
       "      <td>Brasil</td>\n",
       "      <td>Tracey Hardy</td>\n",
       "      <td>Si</td>\n",
       "      <td>Si</td>\n",
       "      <td>No</td>\n",
       "      <td>1980-07-29</td>\n",
       "      <td>37873105</td>\n",
       "    </tr>\n",
       "    <tr>\n",
       "      <th>8</th>\n",
       "      <td>Ecuador</td>\n",
       "      <td>Bradley Reynolds-Turner</td>\n",
       "      <td>No</td>\n",
       "      <td>No</td>\n",
       "      <td>No</td>\n",
       "      <td>1986-04-21</td>\n",
       "      <td>78674023</td>\n",
       "    </tr>\n",
       "    <tr>\n",
       "      <th>9</th>\n",
       "      <td>Peru</td>\n",
       "      <td>Grace Hurst</td>\n",
       "      <td>No</td>\n",
       "      <td>No</td>\n",
       "      <td>No</td>\n",
       "      <td>2000-11-12</td>\n",
       "      <td>18153868</td>\n",
       "    </tr>\n",
       "    <tr>\n",
       "      <th>10</th>\n",
       "      <td>EEUU</td>\n",
       "      <td>Danny Bell</td>\n",
       "      <td>Si</td>\n",
       "      <td>Si</td>\n",
       "      <td>Si</td>\n",
       "      <td>1986-09-10</td>\n",
       "      <td>69775256</td>\n",
       "    </tr>\n",
       "    <tr>\n",
       "      <th>11</th>\n",
       "      <td>Canada</td>\n",
       "      <td>Harry Todd</td>\n",
       "      <td>No</td>\n",
       "      <td>Si</td>\n",
       "      <td>Si</td>\n",
       "      <td>2014-10-27</td>\n",
       "      <td>69048700</td>\n",
       "    </tr>\n",
       "    <tr>\n",
       "      <th>12</th>\n",
       "      <td>Mexico</td>\n",
       "      <td>Victor Reynolds-Patel</td>\n",
       "      <td>Si</td>\n",
       "      <td>Si</td>\n",
       "      <td>No</td>\n",
       "      <td>1988-03-25</td>\n",
       "      <td>70602450</td>\n",
       "    </tr>\n",
       "    <tr>\n",
       "      <th>13</th>\n",
       "      <td>Costa Rica</td>\n",
       "      <td>Gary Thomson</td>\n",
       "      <td>No</td>\n",
       "      <td>No</td>\n",
       "      <td>Si</td>\n",
       "      <td>1974-06-18</td>\n",
       "      <td>45997287</td>\n",
       "    </tr>\n",
       "    <tr>\n",
       "      <th>14</th>\n",
       "      <td>Jamaica</td>\n",
       "      <td>Mr Conor Birch</td>\n",
       "      <td>No</td>\n",
       "      <td>No</td>\n",
       "      <td>No</td>\n",
       "      <td>1990-09-22</td>\n",
       "      <td>42022458</td>\n",
       "    </tr>\n",
       "  </tbody>\n",
       "</table>\n",
       "</div>"
      ],
      "text/plain": [
       "          Pais              Comisionado Reduccion_CO2 Incrmento_P  \\\n",
       "0    Argentina            Dr Debra Bull            Si          Si   \n",
       "1     Colombia          Dr Philip Banks            No          No   \n",
       "2        Chile            Craig Roberts            Si          Si   \n",
       "3      Bolivia  Elliott Hudson-Williams            No          No   \n",
       "4     Paraguay              Lesley Rowe            No          Si   \n",
       "5    Venezuela   Jenna Parkes-Greenwood            Si          Si   \n",
       "6      Uruguay          Rebecca Manning            No          No   \n",
       "7       Brasil             Tracey Hardy            Si          Si   \n",
       "8      Ecuador  Bradley Reynolds-Turner            No          No   \n",
       "9         Peru              Grace Hurst            No          No   \n",
       "10        EEUU               Danny Bell            Si          Si   \n",
       "11      Canada               Harry Todd            No          Si   \n",
       "12     Mexico     Victor Reynolds-Patel            Si          Si   \n",
       "13  Costa Rica             Gary Thomson            No          No   \n",
       "14    Jamaica            Mr Conor Birch            No          No   \n",
       "\n",
       "   Inversion_arboles       Fecha  Telefono  \n",
       "0                 Si  1990-07-08  73710929  \n",
       "1                 Si  1980-07-29  56056869  \n",
       "2                 Si  1997-03-22  16325188  \n",
       "3                 No  1986-06-18  34148789  \n",
       "4                 Si  2015-12-18  54462553  \n",
       "5                 No  1986-09-09  65417059  \n",
       "6                 Si  2013-12-21  56957199  \n",
       "7                 No  1980-07-29  37873105  \n",
       "8                 No  1986-04-21  78674023  \n",
       "9                 No  2000-11-12  18153868  \n",
       "10                Si  1986-09-10  69775256  \n",
       "11                Si  2014-10-27  69048700  \n",
       "12                No  1988-03-25  70602450  \n",
       "13                Si  1974-06-18  45997287  \n",
       "14                No  1990-09-22  42022458  "
      ]
     },
     "execution_count": 28,
     "metadata": {},
     "output_type": "execute_result"
    }
   ],
   "source": [
    "df_final=fake_df[['Pais ','Fake_Comisionado','Reduccion_CO2','Incrmento_P','Inversion_arboles',\n",
    "                  'Fake_Fecha','Fake_Telefono']]\n",
    "df_final.columns=['Pais', 'Comisionado', 'Reduccion_CO2', 'Incrmento_P',\n",
    "                   'Inversion_arboles', 'Fecha', 'Telefono',]\n",
    "df_final"
   ]
  },
  {
   "cell_type": "code",
   "execution_count": 29,
   "id": "c22c37dc",
   "metadata": {},
   "outputs": [
    {
     "data": {
      "text/plain": [
       "Index(['Pais', 'Comisionado', 'Reduccion_CO2', 'Incrmento_P',\n",
       "       'Inversion_arboles', 'Fecha', 'Telefono'],\n",
       "      dtype='object')"
      ]
     },
     "execution_count": 29,
     "metadata": {},
     "output_type": "execute_result"
    }
   ],
   "source": [
    "df_final.columns"
   ]
  },
  {
   "attachments": {},
   "cell_type": "markdown",
   "id": "6f80716b",
   "metadata": {},
   "source": [
    "# Paso 4: Conexion a Redshift"
   ]
  },
  {
   "cell_type": "code",
   "execution_count": 22,
   "metadata": {},
   "outputs": [
    {
     "name": "stderr",
     "output_type": "stream",
     "text": [
      "WARNING: You are using pip version 20.2.3; however, version 23.3.1 is available.\n",
      "You should consider upgrading via the 'c:\\users\\david\\appdata\\local\\programs\\python\\python39\\python.exe -m pip install --upgrade pip' command.\n"
     ]
    }
   ],
   "source": [
    "!pip install -q python-dotenv"
   ]
  },
  {
   "cell_type": "code",
   "execution_count": 30,
   "metadata": {},
   "outputs": [],
   "source": [
    "from dotenv import load_dotenv\n",
    "import os\n",
    "load_dotenv() # Cargar data de archivo .env\n",
    "host = os.getenv(\"DB_HOST\")\n",
    "user = os.getenv(\"DB_USER\")\n",
    "port=os.getenv(\"DB_PORT\")\n",
    "data_base=os.getenv(\"DB\")\n",
    "with open(\"C:/Users/david/Downloads/pwd_coder.txt\",'r') as f:\n",
    "    pwd= f.read()"
   ]
  },
  {
   "cell_type": "code",
   "execution_count": 34,
   "metadata": {},
   "outputs": [
    {
     "data": {
      "text/plain": [
       "'data-engineer-database'"
      ]
     },
     "execution_count": 34,
     "metadata": {},
     "output_type": "execute_result"
    }
   ],
   "source": [
    "data_base"
   ]
  },
  {
   "cell_type": "code",
   "execution_count": 28,
   "metadata": {},
   "outputs": [
    {
     "name": "stderr",
     "output_type": "stream",
     "text": [
      "WARNING: You are using pip version 20.2.3; however, version 23.3.1 is available.\n",
      "You should consider upgrading via the 'c:\\users\\david\\appdata\\local\\programs\\python\\python39\\python.exe -m pip install --upgrade pip' command.\n"
     ]
    }
   ],
   "source": [
    "#!pip install -q psycopg2"
   ]
  },
  {
   "cell_type": "code",
   "execution_count": 37,
   "id": "0ca43375",
   "metadata": {},
   "outputs": [
    {
     "name": "stdout",
     "output_type": "stream",
     "text": [
      "Connected to Redshift successfully!\n"
     ]
    }
   ],
   "source": [
    "import psycopg2\n",
    "try:\n",
    "    conn = psycopg2.connect(\n",
    "        host=host,\n",
    "        dbname=data_base,\n",
    "        user=user,\n",
    "        password=pwd,\n",
    "        port=port\n",
    "    )\n",
    "    print(\"Connected to Redshift successfully!\")\n",
    "except Exception as e:\n",
    "    print(\"Unable to connect to Redshift.\")\n",
    "    print(e)"
   ]
  },
  {
   "cell_type": "code",
   "execution_count": 38,
   "id": "f0b78ec0",
   "metadata": {},
   "outputs": [
    {
     "data": {
      "text/plain": [
       "Pais                 object\n",
       "Comisionado          object\n",
       "Reduccion_CO2        object\n",
       "Incrmento_P          object\n",
       "Inversion_arboles    object\n",
       "Fecha                object\n",
       "Telefono              int64\n",
       "dtype: object"
      ]
     },
     "execution_count": 38,
     "metadata": {},
     "output_type": "execute_result"
    }
   ],
   "source": [
    "df_final.dtypes"
   ]
  },
  {
   "attachments": {},
   "cell_type": "markdown",
   "id": "ce86bd5a",
   "metadata": {},
   "source": [
    "# Paso 5: Enviar tabla a la base de datos"
   ]
  },
  {
   "cell_type": "code",
   "execution_count": 39,
   "id": "43af3811",
   "metadata": {},
   "outputs": [],
   "source": [
    "from psycopg2.extras import execute_values\n",
    "\n",
    "def cargar_en_redshift(conn, table_name, dataframe):\n",
    "    dtypes= dataframe.dtypes\n",
    "    cols= list(dtypes.index )\n",
    "    tipos= list(dtypes.values)\n",
    "    type_map = {'int64': 'INT','float64': 'FLOAT','object': 'VARCHAR(50)'}\n",
    "    sql_dtypes = [type_map[str(dtype)] for dtype in tipos]\n",
    "    # Definir formato SQL VARIABLE TIPO_DATO\n",
    "    column_defs = [f\"{name} {data_type}\" for name, data_type in zip(cols, sql_dtypes)]\n",
    "    # Combine column definitions into the CREATE TABLE statement\n",
    "    table_schema = f\"\"\"\n",
    "        CREATE TABLE IF NOT EXISTS {table_name} (\n",
    "            {', '.join(column_defs)}\n",
    "        );\n",
    "        \"\"\"\n",
    "    # Crear la tabla\n",
    "    cur = conn.cursor()\n",
    "    cur.execute(table_schema)\n",
    "    # Generar los valores a insertar\n",
    "    values = [tuple(x) for x in dataframe.to_numpy()]\n",
    "    # Definir el INSERT\n",
    "    insert_sql = f\"INSERT INTO {table_name} ({', '.join(cols)}) VALUES %s\"\n",
    "    # Execute the transaction to insert the data\n",
    "    cur.execute(\"BEGIN\")\n",
    "    execute_values(cur, insert_sql, values)\n",
    "    cur.execute(\"COMMIT\")\n",
    "    print('Proceso terminado')"
   ]
  },
  {
   "cell_type": "code",
   "execution_count": 40,
   "id": "ede43397",
   "metadata": {},
   "outputs": [
    {
     "name": "stdout",
     "output_type": "stream",
     "text": [
      "Proceso terminado\n"
     ]
    }
   ],
   "source": [
    "cargar_en_redshift(conn=conn, table_name='POLITICAS_2050', dataframe=df_final)"
   ]
  },
  {
   "cell_type": "code",
   "execution_count": 41,
   "id": "6efff773",
   "metadata": {},
   "outputs": [
    {
     "data": {
      "text/html": [
       "<div>\n",
       "<style scoped>\n",
       "    .dataframe tbody tr th:only-of-type {\n",
       "        vertical-align: middle;\n",
       "    }\n",
       "\n",
       "    .dataframe tbody tr th {\n",
       "        vertical-align: top;\n",
       "    }\n",
       "\n",
       "    .dataframe thead th {\n",
       "        text-align: right;\n",
       "    }\n",
       "</style>\n",
       "<table border=\"1\" class=\"dataframe\">\n",
       "  <thead>\n",
       "    <tr style=\"text-align: right;\">\n",
       "      <th></th>\n",
       "      <th>id</th>\n",
       "      <th>name</th>\n",
       "      <th>summary</th>\n",
       "      <th>description</th>\n",
       "      <th>experiences_offered</th>\n",
       "      <th>neighborhood_overview</th>\n",
       "      <th>transit</th>\n",
       "      <th>house_rules</th>\n",
       "      <th>host_id</th>\n",
       "      <th>host_since</th>\n",
       "      <th>...</th>\n",
       "      <th>hot_tub_sauna_or_pool</th>\n",
       "      <th>internet</th>\n",
       "      <th>long_term_stays</th>\n",
       "      <th>pets_allowed</th>\n",
       "      <th>private_entrance</th>\n",
       "      <th>secure</th>\n",
       "      <th>self_check_in</th>\n",
       "      <th>smoking_allowed</th>\n",
       "      <th>accessible</th>\n",
       "      <th>event_suitable</th>\n",
       "    </tr>\n",
       "  </thead>\n",
       "  <tbody>\n",
       "    <tr>\n",
       "      <th>0</th>\n",
       "      <td>2539</td>\n",
       "      <td>Clean &amp; quiet apt home by the park</td>\n",
       "      <td>Renovated apt home in elevator building.</td>\n",
       "      <td>Renovated apt home in elevator building. Spaci...</td>\n",
       "      <td>none</td>\n",
       "      <td>Close to Prospect Park and Historic Ditmas Park</td>\n",
       "      <td>Very close to F and G trains and Express bus i...</td>\n",
       "      <td>-The security and comfort of all our guests is...</td>\n",
       "      <td>2787</td>\n",
       "      <td>39698.0</td>\n",
       "      <td>...</td>\n",
       "      <td>-1</td>\n",
       "      <td>1</td>\n",
       "      <td>1</td>\n",
       "      <td>-1</td>\n",
       "      <td>-1</td>\n",
       "      <td>1</td>\n",
       "      <td>1</td>\n",
       "      <td>-1</td>\n",
       "      <td>1</td>\n",
       "      <td>1</td>\n",
       "    </tr>\n",
       "    <tr>\n",
       "      <th>1</th>\n",
       "      <td>3647</td>\n",
       "      <td>THE VILLAGE OF HARLEM....NEW YORK !</td>\n",
       "      <td>NaN</td>\n",
       "      <td>WELCOME TO OUR INTERNATIONAL URBAN COMMUNITY T...</td>\n",
       "      <td>none</td>\n",
       "      <td>NaN</td>\n",
       "      <td>NaN</td>\n",
       "      <td>Upon arrival please have a legibile copy of yo...</td>\n",
       "      <td>4632</td>\n",
       "      <td>39777.0</td>\n",
       "      <td>...</td>\n",
       "      <td>-1</td>\n",
       "      <td>1</td>\n",
       "      <td>-1</td>\n",
       "      <td>-1</td>\n",
       "      <td>-1</td>\n",
       "      <td>-1</td>\n",
       "      <td>-1</td>\n",
       "      <td>-1</td>\n",
       "      <td>-1</td>\n",
       "      <td>-1</td>\n",
       "    </tr>\n",
       "    <tr>\n",
       "      <th>2</th>\n",
       "      <td>7750</td>\n",
       "      <td>Huge 2 BR Upper East  Cental Park</td>\n",
       "      <td>NaN</td>\n",
       "      <td>Large Furnished 2BR one block  to Central Park...</td>\n",
       "      <td>none</td>\n",
       "      <td>NaN</td>\n",
       "      <td>NaN</td>\n",
       "      <td>NaN</td>\n",
       "      <td>17985</td>\n",
       "      <td>39953.0</td>\n",
       "      <td>...</td>\n",
       "      <td>-1</td>\n",
       "      <td>1</td>\n",
       "      <td>-1</td>\n",
       "      <td>1</td>\n",
       "      <td>-1</td>\n",
       "      <td>-1</td>\n",
       "      <td>-1</td>\n",
       "      <td>-1</td>\n",
       "      <td>-1</td>\n",
       "      <td>-1</td>\n",
       "    </tr>\n",
       "    <tr>\n",
       "      <th>3</th>\n",
       "      <td>8505</td>\n",
       "      <td>Sunny Bedroom Across Prospect Park</td>\n",
       "      <td>Just renovated sun drenched bedroom in a quiet...</td>\n",
       "      <td>Just renovated sun drenched bedroom in a quiet...</td>\n",
       "      <td>none</td>\n",
       "      <td>Quiet and beautiful Windsor Terrace. The apart...</td>\n",
       "      <td>Ten minutes walk to the 15th sheet F&amp;G train s...</td>\n",
       "      <td>- No shoes in the house - Quiet hours after 11...</td>\n",
       "      <td>25326</td>\n",
       "      <td>40006.0</td>\n",
       "      <td>...</td>\n",
       "      <td>-1</td>\n",
       "      <td>1</td>\n",
       "      <td>-1</td>\n",
       "      <td>-1</td>\n",
       "      <td>-1</td>\n",
       "      <td>-1</td>\n",
       "      <td>-1</td>\n",
       "      <td>-1</td>\n",
       "      <td>-1</td>\n",
       "      <td>-1</td>\n",
       "    </tr>\n",
       "    <tr>\n",
       "      <th>4</th>\n",
       "      <td>8700</td>\n",
       "      <td>Magnifique Suite au N de Manhattan - vue Cloitres</td>\n",
       "      <td>Suite de 20 m2 a 5 min des 2 lignes de metro a...</td>\n",
       "      <td>Suite de 20 m2 a 5 min des 2 lignes de metro a...</td>\n",
       "      <td>none</td>\n",
       "      <td>NaN</td>\n",
       "      <td>Metro 1 et A</td>\n",
       "      <td>NaN</td>\n",
       "      <td>26394</td>\n",
       "      <td>40014.0</td>\n",
       "      <td>...</td>\n",
       "      <td>-1</td>\n",
       "      <td>1</td>\n",
       "      <td>-1</td>\n",
       "      <td>-1</td>\n",
       "      <td>-1</td>\n",
       "      <td>-1</td>\n",
       "      <td>-1</td>\n",
       "      <td>-1</td>\n",
       "      <td>-1</td>\n",
       "      <td>-1</td>\n",
       "    </tr>\n",
       "  </tbody>\n",
       "</table>\n",
       "<p>5 rows × 81 columns</p>\n",
       "</div>"
      ],
      "text/plain": [
       "     id                                               name  \\\n",
       "0  2539                 Clean & quiet apt home by the park   \n",
       "1  3647                THE VILLAGE OF HARLEM....NEW YORK !   \n",
       "2  7750                  Huge 2 BR Upper East  Cental Park   \n",
       "3  8505                 Sunny Bedroom Across Prospect Park   \n",
       "4  8700  Magnifique Suite au N de Manhattan - vue Cloitres   \n",
       "\n",
       "                                             summary  \\\n",
       "0           Renovated apt home in elevator building.   \n",
       "1                                                NaN   \n",
       "2                                                NaN   \n",
       "3  Just renovated sun drenched bedroom in a quiet...   \n",
       "4  Suite de 20 m2 a 5 min des 2 lignes de metro a...   \n",
       "\n",
       "                                         description experiences_offered  \\\n",
       "0  Renovated apt home in elevator building. Spaci...                none   \n",
       "1  WELCOME TO OUR INTERNATIONAL URBAN COMMUNITY T...                none   \n",
       "2  Large Furnished 2BR one block  to Central Park...                none   \n",
       "3  Just renovated sun drenched bedroom in a quiet...                none   \n",
       "4  Suite de 20 m2 a 5 min des 2 lignes de metro a...                none   \n",
       "\n",
       "                               neighborhood_overview  \\\n",
       "0    Close to Prospect Park and Historic Ditmas Park   \n",
       "1                                                NaN   \n",
       "2                                                NaN   \n",
       "3  Quiet and beautiful Windsor Terrace. The apart...   \n",
       "4                                                NaN   \n",
       "\n",
       "                                             transit  \\\n",
       "0  Very close to F and G trains and Express bus i...   \n",
       "1                                                NaN   \n",
       "2                                                NaN   \n",
       "3  Ten minutes walk to the 15th sheet F&G train s...   \n",
       "4                                       Metro 1 et A   \n",
       "\n",
       "                                         house_rules  host_id  host_since  \\\n",
       "0  -The security and comfort of all our guests is...     2787     39698.0   \n",
       "1  Upon arrival please have a legibile copy of yo...     4632     39777.0   \n",
       "2                                                NaN    17985     39953.0   \n",
       "3  - No shoes in the house - Quiet hours after 11...    25326     40006.0   \n",
       "4                                                NaN    26394     40014.0   \n",
       "\n",
       "   ... hot_tub_sauna_or_pool  internet  long_term_stays  pets_allowed  \\\n",
       "0  ...                    -1         1                1            -1   \n",
       "1  ...                    -1         1               -1            -1   \n",
       "2  ...                    -1         1               -1             1   \n",
       "3  ...                    -1         1               -1            -1   \n",
       "4  ...                    -1         1               -1            -1   \n",
       "\n",
       "   private_entrance secure self_check_in  smoking_allowed  accessible  \\\n",
       "0                -1      1             1               -1           1   \n",
       "1                -1     -1            -1               -1          -1   \n",
       "2                -1     -1            -1               -1          -1   \n",
       "3                -1     -1            -1               -1          -1   \n",
       "4                -1     -1            -1               -1          -1   \n",
       "\n",
       "  event_suitable  \n",
       "0              1  \n",
       "1             -1  \n",
       "2             -1  \n",
       "3             -1  \n",
       "4             -1  \n",
       "\n",
       "[5 rows x 81 columns]"
      ]
     },
     "execution_count": 41,
     "metadata": {},
     "output_type": "execute_result"
    }
   ],
   "source": [
    "t=pd.read_csv('airbnb_nyc.txt',sep=',')\n",
    "t.head()"
   ]
  },
  {
   "cell_type": "code",
   "execution_count": 42,
   "id": "f044f6ff",
   "metadata": {},
   "outputs": [
    {
     "data": {
      "text/plain": [
       "Index(['id', 'name', 'summary', 'description', 'experiences_offered',\n",
       "       'neighborhood_overview', 'transit', 'house_rules', 'host_id',\n",
       "       'host_since', 'host_response_time', 'host_response_rate',\n",
       "       'host_is_superhost', 'host_listings_count', 'host_identity_verified',\n",
       "       'street', 'neighbourhood', 'latitude', 'longitude', 'property_type',\n",
       "       'room_type', 'accommodates', 'bathrooms', 'bedrooms', 'beds',\n",
       "       'bed_type', 'amenities', 'price', 'guests_included', 'extra_people',\n",
       "       'minimum_nights', 'calendar_updated', 'has_availability',\n",
       "       'availability_30', 'availability_60', 'availability_90',\n",
       "       'availability_365', 'number_of_reviews', 'number_of_reviews_ltm',\n",
       "       'review_scores_rating', 'review_scores_accuracy',\n",
       "       'review_scores_cleanliness', 'review_scores_checkin',\n",
       "       'review_scores_communication', 'review_scores_location',\n",
       "       'review_scores_value', 'instant_bookable', 'cancellation_policy',\n",
       "       'calculated_host_listings_count',\n",
       "       'calculated_host_listings_count_entire_homes',\n",
       "       'calculated_host_listings_count_private_rooms',\n",
       "       'calculated_host_listings_count_shared_rooms', 'reviews_per_month',\n",
       "       'check_in_24h', 'air_conditioning', 'high_end_electronics', 'bbq',\n",
       "       'balcony', 'nature_and_views', 'bed_linen', 'breakfast', 'tv',\n",
       "       'coffee_machine', 'cooking_basics', 'white_goods', 'elevator', 'gym',\n",
       "       'child_friendly', 'parking', 'outdoor_space', 'host_greeting',\n",
       "       'hot_tub_sauna_or_pool', 'internet', 'long_term_stays', 'pets_allowed',\n",
       "       'private_entrance', 'secure', 'self_check_in', 'smoking_allowed',\n",
       "       'accessible', 'event_suitable'],\n",
       "      dtype='object')"
      ]
     },
     "execution_count": 42,
     "metadata": {},
     "output_type": "execute_result"
    }
   ],
   "source": [
    "t.columns"
   ]
  }
 ],
 "metadata": {
  "kernelspec": {
   "display_name": "Python 3 (ipykernel)",
   "language": "python",
   "name": "python3"
  },
  "language_info": {
   "codemirror_mode": {
    "name": "ipython",
    "version": 3
   },
   "file_extension": ".py",
   "mimetype": "text/x-python",
   "name": "python",
   "nbconvert_exporter": "python",
   "pygments_lexer": "ipython3",
   "version": "3.9.1"
  }
 },
 "nbformat": 4,
 "nbformat_minor": 5
}
